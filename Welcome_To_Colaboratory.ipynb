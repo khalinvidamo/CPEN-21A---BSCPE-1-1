{
  "nbformat": 4,
  "nbformat_minor": 0,
  "metadata": {
    "colab": {
      "name": "Welcome To Colaboratory",
      "provenance": [],
      "collapsed_sections": [],
      "history_visible": true,
      "include_colab_link": true
    },
    "kernelspec": {
      "display_name": "Python 3",
      "name": "python3"
    }
  },
  "cells": [
    {
      "cell_type": "markdown",
      "metadata": {
        "id": "view-in-github",
        "colab_type": "text"
      },
      "source": [
        "<a href=\"https://colab.research.google.com/github/khalinvidamo1-1/CPEN-21A---BSCPE-1-1/blob/main/Welcome_To_Colaboratory.ipynb\" target=\"_parent\"><img src=\"https://colab.research.google.com/assets/colab-badge.svg\" alt=\"Open In Colab\"/></a>"
      ]
    },
    {
      "cell_type": "markdown",
      "metadata": {
        "id": "aSEBa4Zcenu5"
      },
      "source": [
        "##BOOLEAN OPERATORS\n",
        "####Booleans represent one of two values. True or False"
      ]
    },
    {
      "cell_type": "code",
      "metadata": {
        "id": "XwomvdvmfWUU",
        "outputId": "7e439621-ba02-4ff6-bee9-b003a635c9f7",
        "colab": {
          "base_uri": "https://localhost:8080/"
        }
      },
      "source": [
        "print(10 > 9) \n",
        "print (10 < 9)\n",
        "print(10==9)\n",
        "print(10!=9)"
      ],
      "execution_count": 3,
      "outputs": [
        {
          "output_type": "stream",
          "name": "stdout",
          "text": [
            "True\n",
            "False\n",
            "False\n",
            "True\n"
          ]
        }
      ]
    },
    {
      "cell_type": "code",
      "metadata": {
        "id": "HSYV2w_8gyL1",
        "outputId": "305c31ae-628c-4a13-a54f-07690f00fd76",
        "colab": {
          "base_uri": "https://localhost:8080/"
        }
      },
      "source": [
        "print(bool(True))\n",
        "print(bool(False))\n",
        "print(bool(1))\n",
        "print(bool(0))\n",
        "print(bool([]))\n",
        "print(bool(None))"
      ],
      "execution_count": 9,
      "outputs": [
        {
          "output_type": "stream",
          "name": "stdout",
          "text": [
            "True\n",
            "False\n",
            "True\n",
            "False\n",
            "False\n",
            "False\n"
          ]
        }
      ]
    },
    {
      "cell_type": "code",
      "metadata": {
        "id": "6QsIW0fMh0O3",
        "outputId": "72b9096e-5e2a-403e-aaa2-0b21105c806f",
        "colab": {
          "base_uri": "https://localhost:8080/"
        }
      },
      "source": [
        "def myFunction(): return True\n",
        "print(myFunction())"
      ],
      "execution_count": 11,
      "outputs": [
        {
          "output_type": "stream",
          "name": "stdout",
          "text": [
            "True\n"
          ]
        }
      ]
    },
    {
      "cell_type": "code",
      "metadata": {
        "colab": {
          "base_uri": "https://localhost:8080/"
        },
        "id": "mq3jm1JfiHCb",
        "outputId": "35fbf62a-2aed-4fc4-fe0e-745d4745c54f"
      },
      "source": [
        "##Boolean answer of a function\n",
        "def myFunction(): return True\n",
        "\n",
        "if myFunction():\n",
        "   print(\"Yes!\")\n",
        "else:\n",
        "   print(\"No!\")"
      ],
      "execution_count": 18,
      "outputs": [
        {
          "output_type": "stream",
          "name": "stdout",
          "text": [
            "Yes!\n"
          ]
        }
      ]
    },
    {
      "cell_type": "code",
      "metadata": {
        "id": "XVav08upivSy",
        "outputId": "fa2f3f0b-ddf1-4678-b902-253c1d1e2b02",
        "colab": {
          "base_uri": "https://localhost:8080/"
        }
      },
      "source": [
        "a=6\n",
        "b=7\n",
        "print(a==b)\n",
        "print(a!=a)"
      ],
      "execution_count": 17,
      "outputs": [
        {
          "output_type": "stream",
          "name": "stdout",
          "text": [
            "False\n",
            "False\n"
          ]
        }
      ]
    },
    {
      "cell_type": "markdown",
      "metadata": {
        "id": "HCXcuqGEj5Te"
      },
      "source": [
        "###Phyton Operators"
      ]
    },
    {
      "cell_type": "code",
      "metadata": {
        "id": "bTLP_3Itj_EE",
        "outputId": "fc3ec298-85b1-40fb-c005-7ce11e027850",
        "colab": {
          "base_uri": "https://localhost:8080/"
        }
      },
      "source": [
        "print(10+5)\n",
        "print(10-5)\n",
        "print(10*5)\n",
        "print(10/5)\n",
        "print(10//5) #floor division\n",
        "print(10/3) #quotient\n",
        "print(10//3) #floor division\n",
        "print(10%3) #modulo\n",
        "print(10**2) #concatenation"
      ],
      "execution_count": 20,
      "outputs": [
        {
          "output_type": "stream",
          "name": "stdout",
          "text": [
            "15\n",
            "5\n",
            "50\n",
            "2.0\n",
            "2\n",
            "3.3333333333333335\n",
            "3\n",
            "1\n",
            "100\n"
          ]
        }
      ]
    },
    {
      "cell_type": "code",
      "metadata": {
        "id": "z4emD9KHnZ-8",
        "outputId": "e5f5c3cc-2383-4906-a388-d8b932eefae8",
        "colab": {
          "base_uri": "https://localhost:8080/"
        }
      },
      "source": [
        "a = 60 #0011 1100 , 0111 1000 , 1111 0000\n",
        "b = 13\n",
        "print(a&b)\n",
        "print(a|b)\n",
        "print(a<<1)\n",
        "print(a>>1) #0011 1100 , 0001 1110"
      ],
      "execution_count": 26,
      "outputs": [
        {
          "output_type": "stream",
          "name": "stdout",
          "text": [
            "12\n",
            "61\n",
            "120\n",
            "30\n"
          ]
        }
      ]
    },
    {
      "cell_type": "code",
      "metadata": {
        "id": "l9Flr4Tcp5Ag",
        "outputId": "ffde8499-423a-48f0-8bad-deae8afcdd88",
        "colab": {
          "base_uri": "https://localhost:8080/"
        }
      },
      "source": [
        "a+=2 #same as a = a +2, a = 60 + 2, a=62\n",
        "print(a) "
      ],
      "execution_count": 27,
      "outputs": [
        {
          "output_type": "stream",
          "name": "stdout",
          "text": [
            "62\n"
          ]
        }
      ]
    },
    {
      "cell_type": "markdown",
      "metadata": {
        "id": "XuMAHYpxqg8U"
      },
      "source": [
        "###Logical Operators"
      ]
    },
    {
      "cell_type": "code",
      "metadata": {
        "id": "CYO2Nb_-qtNi",
        "outputId": "0e7cd742-dd43-448a-96ba-60d000c320bf",
        "colab": {
          "base_uri": "https://localhost:8080/"
        }
      },
      "source": [
        "a = 60\n",
        "b = 60\n",
        "\n",
        "\n",
        "(a>b) and (a<b)\n",
        "(a>b) or (a<b)\n",
        "not(a>b)"
      ],
      "execution_count": 36,
      "outputs": [
        {
          "output_type": "execute_result",
          "data": {
            "text/plain": [
              "True"
            ]
          },
          "metadata": {},
          "execution_count": 36
        }
      ]
    },
    {
      "cell_type": "markdown",
      "metadata": {
        "id": "lh2BtbBNtbZx"
      },
      "source": [
        "###Identity Operator"
      ]
    },
    {
      "cell_type": "code",
      "metadata": {
        "id": "LCKVGuWLs2iP",
        "outputId": "1b6db7c9-2fdf-4d6b-e05c-af8a86ddb74a",
        "colab": {
          "base_uri": "https://localhost:8080/"
        }
      },
      "source": [
        "print(a is b)\n",
        "print(a is not b)"
      ],
      "execution_count": 38,
      "outputs": [
        {
          "output_type": "stream",
          "name": "stdout",
          "text": [
            "True\n",
            "False\n"
          ]
        }
      ]
    }
  ]
}