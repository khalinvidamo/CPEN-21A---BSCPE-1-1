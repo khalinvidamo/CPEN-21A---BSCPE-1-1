{
  "nbformat": 4,
  "nbformat_minor": 0,
  "metadata": {
    "colab": {
      "name": " Final Exam.ipynb",
      "provenance": [],
      "collapsed_sections": [],
      "authorship_tag": "ABX9TyNnzy/h+vl77gri7AcMtTS4",
      "include_colab_link": true
    },
    "kernelspec": {
      "name": "python3",
      "display_name": "Python 3"
    },
    "language_info": {
      "name": "python"
    }
  },
  "cells": [
    {
      "cell_type": "markdown",
      "metadata": {
        "id": "view-in-github",
        "colab_type": "text"
      },
      "source": [
        "<a href=\"https://colab.research.google.com/github/khalinvidamo1-1/CPEN-21A---BSCPE-1-1/blob/main/Final_Exam.ipynb\" target=\"_parent\"><img src=\"https://colab.research.google.com/assets/colab-badge.svg\" alt=\"Open In Colab\"/></a>"
      ]
    },
    {
      "cell_type": "markdown",
      "source": [
        "#FINAL EXAM"
      ],
      "metadata": {
        "id": "3BjYkf2A8ojY"
      }
    },
    {
      "cell_type": "markdown",
      "source": [
        "##Problem Statement #1\n",
        "###Create a Python program that will produce an output of sum of 10 numbers less than 5 using FOR LOOP statement. (30 points)\n"
      ],
      "metadata": {
        "id": "LGoCrOS59Gxv"
      }
    },
    {
      "cell_type": "code",
      "source": [
        "number = [-5,-4,-3,-2,-1,0,1,2,3,4]\n",
        "for x in number:\n",
        "  x = sum(number)\n",
        "  print(x)"
      ],
      "metadata": {
        "colab": {
          "base_uri": "https://localhost:8080/"
        },
        "id": "yX9C3017FK7q",
        "outputId": "0e4f75a9-7fc7-4a1c-d181-5767cae1804c"
      },
      "execution_count": 77,
      "outputs": [
        {
          "output_type": "stream",
          "name": "stdout",
          "text": [
            "-5\n",
            "-5\n",
            "-5\n",
            "-5\n",
            "-5\n",
            "-5\n",
            "-5\n",
            "-5\n",
            "-5\n",
            "-5\n"
          ]
        }
      ]
    },
    {
      "cell_type": "markdown",
      "source": [
        "##Problem Statement 2\n",
        "###Create a Python program that will produce accept five numbers and determine the sum of first and last number among the five numbers entered using WHILE LOOP (35 points)"
      ],
      "metadata": {
        "id": "Wh7G2T7FJF-A"
      }
    },
    {
      "cell_type": "code",
      "source": [
        "number = int(input(\"1st number:  \"))\n",
        "while (number!=0):\n",
        "  k = int(input(\"2nd number:  \"))\n",
        "  r = int(input(\"3rd number:  \"))\n",
        "  v = int(input(\"4th number:  \"))\n",
        "  a = int(input(\"5th number:  \"))\n",
        "  x = number + a\n",
        "  print(x)\n",
        "  break"
      ],
      "metadata": {
        "colab": {
          "base_uri": "https://localhost:8080/"
        },
        "id": "z9U8V1-pJeGV",
        "outputId": "1f17c24e-fd56-4cd5-c3ce-0dbda16416fc"
      },
      "execution_count": 11,
      "outputs": [
        {
          "output_type": "stream",
          "name": "stdout",
          "text": [
            "1st number:  360\n",
            "2nd number:  145\n",
            "3rd number:  385\n",
            "4th number:  60\n",
            "5th number:  9800\n",
            "10160\n"
          ]
        }
      ]
    },
    {
      "cell_type": "markdown",
      "source": [
        "#Problem Statement 3\n",
        "##Create a Python program to calculate student grades. It accepts a numerical grade as input and it will display the character grade as output based on the given scale: (Use Nested-IF-Else statement) (35 points)"
      ],
      "metadata": {
        "id": "R1kzzG0TS9RM"
      }
    },
    {
      "cell_type": "code",
      "source": [
        "grade = int(input(\"Enter your grade: \"))\n",
        "if grade >=90:\n",
        "  print(\"Character Grade: A\")\n",
        "elif grade <=90 and grade >=80:\n",
        "  print(\"Character Grade: B\")\n",
        "elif grade <=80 and grade >=70:\n",
        "  print(\"Character Grade: C\")\n",
        "elif grade <=70 and grade >=60:\n",
        "  print(\"Character Grade: D\")\n",
        "else:\n",
        "  print(\"Character Grade: F\")"
      ],
      "metadata": {
        "colab": {
          "base_uri": "https://localhost:8080/"
        },
        "id": "JiDeQStGjOA8",
        "outputId": "40dd9cda-ee1a-4016-ec04-35df646251da"
      },
      "execution_count": 56,
      "outputs": [
        {
          "output_type": "stream",
          "name": "stdout",
          "text": [
            "Enter your grade: 95\n",
            "Character Grade: A\n"
          ]
        }
      ]
    },
    {
      "cell_type": "code",
      "source": [
        "grade = int(input(\"Enter your grade: \"))\n",
        "if grade >=90:\n",
        "  print (\"Grade Character: A\")\n",
        "else:\n",
        "  if grade <90 and grade >=89:\n",
        "    print(\"Grade Character: B\")\n",
        "  else:\n",
        "     if grade <=79 and grade >=70:\n",
        "          print(\"Grade Character: C\")\n",
        "     else:\n",
        "         if grade <=69 and grade >=60:\n",
        "              print(\"Grade Character: D\")\n",
        "         else:\n",
        "              print(\"Grade Character: F\")"
      ],
      "metadata": {
        "colab": {
          "base_uri": "https://localhost:8080/"
        },
        "id": "F0n1iqynlSMn",
        "outputId": "4c7e5aae-4cdb-4756-d7f1-7a091165e564"
      },
      "execution_count": 76,
      "outputs": [
        {
          "output_type": "stream",
          "name": "stdout",
          "text": [
            "Enter your grade: 55\n",
            "Grade Character: F\n"
          ]
        }
      ]
    }
  ]
}