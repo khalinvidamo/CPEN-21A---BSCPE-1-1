{
  "cells": [
    {
      "cell_type": "markdown",
      "metadata": {
        "id": "view-in-github",
        "colab_type": "text"
      },
      "source": [
        "<a href=\"https://colab.research.google.com/github/khalinvidamo1-1/CPEN-21A---BSCPE-1-1/blob/main/LOOP_STATEMENT_IPYNB.ipynb\" target=\"_parent\"><img src=\"https://colab.research.google.com/assets/colab-badge.svg\" alt=\"Open In Colab\"/></a>"
      ]
    },
    {
      "cell_type": "markdown",
      "source": [
        "##FOR LOOP STATEMENT"
      ],
      "metadata": {
        "id": "xe5E_Z5jjxWa"
      }
    },
    {
      "cell_type": "code",
      "source": [
        "week = ['Sunday','Monday','Tuesday','Wednesday','Thursday','Friday','Saturday']\n",
        "for x in week:\n",
        "  print(x)"
      ],
      "metadata": {
        "colab": {
          "base_uri": "https://localhost:8080/"
        },
        "id": "3ZJm4Uq9radX",
        "outputId": "5a801cd2-9b70-4948-e20d-aed7c7e4c15d"
      },
      "execution_count": 6,
      "outputs": [
        {
          "output_type": "stream",
          "name": "stdout",
          "text": [
            "Sunday\n",
            "Monday\n",
            "Tuesday\n",
            "Wednesday\n",
            "Thursday\n",
            "Friday\n",
            "Saturday\n"
          ]
        }
      ]
    },
    {
      "cell_type": "markdown",
      "source": [
        "THE BREAK STATEMENT"
      ],
      "metadata": {
        "id": "khsqNlK_tS96"
      }
    },
    {
      "cell_type": "code",
      "source": [
        "week = ['Sunday','Monday','Tuesday','Wednesday','Thursday','Friday','Saturday']\n",
        "for x in week:\n",
        "  print(x)\n",
        "  if x=='Thursday':\n",
        "    break"
      ],
      "metadata": {
        "colab": {
          "base_uri": "https://localhost:8080/"
        },
        "outputId": "a44a1e83-38ba-4d9d-fedd-8a80ffa91f90",
        "id": "k7TN5AQdtdqw"
      },
      "execution_count": 7,
      "outputs": [
        {
          "output_type": "stream",
          "name": "stdout",
          "text": [
            "Sunday\n",
            "Monday\n",
            "Tuesday\n",
            "Wednesday\n",
            "Thursday\n"
          ]
        }
      ]
    },
    {
      "cell_type": "code",
      "source": [
        "week = ['Sunday','Monday','Tuesday','Wednesday','Thursday','Friday','Saturday']\n",
        "for x in week:\n",
        "  print(x)\n",
        "  if x==\"Thursday\":\n",
        "    break\n",
        "    print(x)"
      ],
      "metadata": {
        "colab": {
          "base_uri": "https://localhost:8080/"
        },
        "outputId": "2f034fdb-19fb-41e5-8fca-b8c75ec0d4d6",
        "id": "NMcMOk-rt_8H"
      },
      "execution_count": 14,
      "outputs": [
        {
          "output_type": "stream",
          "name": "stdout",
          "text": [
            "Sunday\n",
            "Monday\n",
            "Tuesday\n",
            "Wednesday\n",
            "Thursday\n"
          ]
        }
      ]
    },
    {
      "cell_type": "markdown",
      "source": [
        "LOOPING THROUGH A STRING"
      ],
      "metadata": {
        "id": "e48raEDUvGll"
      }
    },
    {
      "cell_type": "code",
      "source": [
        "for x in \"week\":\n",
        "  print(x)"
      ],
      "metadata": {
        "colab": {
          "base_uri": "https://localhost:8080/"
        },
        "id": "zFTd6x2MvOWd",
        "outputId": "beab1126-144e-4217-c163-b8f34ba3ee31"
      },
      "execution_count": 15,
      "outputs": [
        {
          "output_type": "stream",
          "name": "stdout",
          "text": [
            "w\n",
            "e\n",
            "e\n",
            "k\n"
          ]
        }
      ]
    },
    {
      "cell_type": "markdown",
      "source": [
        "THE RANGE FUNCTION"
      ],
      "metadata": {
        "id": "JcTowzVgvqf6"
      }
    },
    {
      "cell_type": "code",
      "source": [
        "for x in range(6):\n",
        "  print(\"Example 1\",x)\n",
        "for x in range(2,6):\n",
        "  print(\"Example 2\",x)"
      ],
      "metadata": {
        "colab": {
          "base_uri": "https://localhost:8080/"
        },
        "id": "2_nq1VbDv6Jl",
        "outputId": "93cf14f3-d5f5-4ac6-b008-33de49570622"
      },
      "execution_count": 18,
      "outputs": [
        {
          "output_type": "stream",
          "name": "stdout",
          "text": [
            "Example 1 0\n",
            "Example 1 1\n",
            "Example 1 2\n",
            "Example 1 3\n",
            "Example 1 4\n",
            "Example 1 5\n",
            "Example 2 2\n",
            "Example 2 3\n",
            "Example 2 4\n",
            "Example 2 5\n"
          ]
        }
      ]
    },
    {
      "cell_type": "markdown",
      "source": [
        "NESTED LOOPS"
      ],
      "metadata": {
        "id": "ShlQQoxJxBBT"
      }
    },
    {
      "cell_type": "code",
      "source": [
        "adjective = [\"red\",\"big\",\"tasty\"]\n",
        "fruits = [\"apple\",\"banana\",\"cherry\"]\n",
        "\n",
        "for x in adjective:\n",
        "  for y in fruits:\n",
        "    print(x,y)\n",
        "            "
      ],
      "metadata": {
        "colab": {
          "base_uri": "https://localhost:8080/"
        },
        "id": "_cn1dVVyxExM",
        "outputId": "5efd71d8-5997-43ca-e949-436f091ac153"
      },
      "execution_count": 19,
      "outputs": [
        {
          "output_type": "stream",
          "name": "stdout",
          "text": [
            "red apple\n",
            "red banana\n",
            "red cherry\n",
            "big apple\n",
            "big banana\n",
            "big cherry\n",
            "tasty apple\n",
            "tasty banana\n",
            "tasty cherry\n"
          ]
        }
      ]
    },
    {
      "cell_type": "markdown",
      "source": [
        "##WHILE LOOPS STATEMENT"
      ],
      "metadata": {
        "id": "XShXQ9LGzAM6"
      }
    },
    {
      "cell_type": "code",
      "source": [
        "i = 1\n",
        "while i<6:\n",
        "  print(i)\n",
        "  i += 1 #i = i+1 Assignment operator"
      ],
      "metadata": {
        "colab": {
          "base_uri": "https://localhost:8080/"
        },
        "id": "sRZT1Kg3zFGG",
        "outputId": "801e71a2-b444-451e-9ca5-c0cbae3e0309"
      },
      "execution_count": 20,
      "outputs": [
        {
          "output_type": "stream",
          "name": "stdout",
          "text": [
            "1\n",
            "2\n",
            "3\n",
            "4\n",
            "5\n"
          ]
        }
      ]
    },
    {
      "cell_type": "markdown",
      "source": [
        "THE BREAK STATEMENT"
      ],
      "metadata": {
        "id": "4a5hMrLQz7Sk"
      }
    },
    {
      "cell_type": "code",
      "source": [
        "i = 1\n",
        "while i<6:\n",
        "  i+=1 #Assignment operator for addition\n",
        "  if i==3:\n",
        "    continue\n",
        "  else:\n",
        "    print(i)\n"
      ],
      "metadata": {
        "colab": {
          "base_uri": "https://localhost:8080/"
        },
        "id": "wXyzgaxW1imc",
        "outputId": "1dfb99c1-f9ce-4ef1-bfa4-76d10cbfa066"
      },
      "execution_count": 34,
      "outputs": [
        {
          "output_type": "stream",
          "name": "stdout",
          "text": [
            "2\n",
            "4\n",
            "5\n",
            "6\n"
          ]
        }
      ]
    },
    {
      "cell_type": "code",
      "source": [
        "i = 1\n",
        "while i<6:\n",
        "  print(i)\n",
        "  i+=1\n",
        "else:\n",
        "  print(\"i is no longer less than 6\")"
      ],
      "metadata": {
        "colab": {
          "base_uri": "https://localhost:8080/"
        },
        "id": "Sxsu4vpo3U5H",
        "outputId": "c4c76d20-de47-4fc3-8599-1420f405067b"
      },
      "execution_count": 35,
      "outputs": [
        {
          "output_type": "stream",
          "name": "stdout",
          "text": [
            "1\n",
            "2\n",
            "3\n",
            "4\n",
            "5\n",
            "i is no longer less than 6\n"
          ]
        }
      ]
    },
    {
      "cell_type": "markdown",
      "source": [
        "###Application 1\n",
        "Create a Phyton Program that displays:\n",
        "Hello 0\n",
        "Hello 1\n",
        "Hello 2\n",
        "Hello 3\n",
        "Hello 4\n",
        "Hello 5\n",
        "Hello 6\n",
        "Hello 7\n",
        "Hello 8\n",
        "Hello 9\n",
        "Hello 10 (in vertical display)"
      ],
      "metadata": {
        "id": "ADTR0H1h4N3O"
      }
    },
    {
      "cell_type": "code",
      "source": [
        "Hello = [\"Hello 0\",\"Hello 1\",\"Hello 2\",\"Hello 3\",\"Hello 4\",\"Hello 5\",\"Hello 6\",\"Hello 7\",\"Hello 8\",\"Hello 9\",\"Hello 10\"]\n",
        "for x in Hello:\n",
        "   print(x)\n",
        "\n",
        "i = 0\n",
        "while i<=10:\n",
        "  print(\"Hello\",i)\n",
        "  i+=1"
      ],
      "metadata": {
        "colab": {
          "base_uri": "https://localhost:8080/"
        },
        "id": "kR3-fzTz4oVP",
        "outputId": "5550121b-234c-48ad-a290-dc4961f87b33"
      },
      "execution_count": 40,
      "outputs": [
        {
          "output_type": "stream",
          "name": "stdout",
          "text": [
            "Hello 0\n",
            "Hello 1\n",
            "Hello 2\n",
            "Hello 3\n",
            "Hello 4\n",
            "Hello 5\n",
            "Hello 6\n",
            "Hello 7\n",
            "Hello 8\n",
            "Hello 9\n",
            "Hello 10\n",
            "Hello 0\n",
            "Hello 1\n",
            "Hello 2\n",
            "Hello 3\n",
            "Hello 4\n",
            "Hello 5\n",
            "Hello 6\n",
            "Hello 7\n",
            "Hello 8\n",
            "Hello 9\n",
            "Hello 10\n"
          ]
        }
      ]
    }
  ],
  "metadata": {
    "colab": {
      "collapsed_sections": [],
      "name": "LOOP STATEMENT.IPYNB",
      "provenance": [],
      "include_colab_link": true
    },
    "kernelspec": {
      "display_name": "Python 3",
      "name": "python3"
    }
  },
  "nbformat": 4,
  "nbformat_minor": 0
}