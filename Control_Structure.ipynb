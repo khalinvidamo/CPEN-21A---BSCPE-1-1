{
  "nbformat": 4,
  "nbformat_minor": 0,
  "metadata": {
    "colab": {
      "name": "Control Structure.ipynb",
      "provenance": [],
      "collapsed_sections": [],
      "toc_visible": true,
      "include_colab_link": true
    },
    "kernelspec": {
      "display_name": "Python 3",
      "name": "python3"
    }
  },
  "cells": [
    {
      "cell_type": "markdown",
      "metadata": {
        "id": "view-in-github",
        "colab_type": "text"
      },
      "source": [
        "<a href=\"https://colab.research.google.com/github/khalinvidamo1-1/CPEN-21A---BSCPE-1-1/blob/main/Control_Structure.ipynb\" target=\"_parent\"><img src=\"https://colab.research.google.com/assets/colab-badge.svg\" alt=\"Open In Colab\"/></a>"
      ]
    },
    {
      "cell_type": "markdown",
      "metadata": {
        "id": "gGlLCX8IrORM"
      },
      "source": [
        "###IF STATEMENT"
      ]
    },
    {
      "cell_type": "code",
      "metadata": {
        "colab": {
          "base_uri": "https://localhost:8080/"
        },
        "id": "IaWIo-EErUQS",
        "outputId": "f8e0064a-494f-429a-b354-3efea9990ab7"
      },
      "source": [
        "a = 12\n",
        "b = 100\n",
        " \n",
        "if b>a:\n",
        "  print(\"b is greater than a\")\n"
      ],
      "execution_count": 2,
      "outputs": [
        {
          "output_type": "stream",
          "name": "stdout",
          "text": [
            "b is greater than a\n"
          ]
        }
      ]
    },
    {
      "cell_type": "markdown",
      "metadata": {
        "id": "zhYcyXQQr6RR"
      },
      "source": [
        "###ELIF CONDITION"
      ]
    },
    {
      "cell_type": "code",
      "metadata": {
        "colab": {
          "base_uri": "https://localhost:8080/"
        },
        "id": "W75C03LYr_ec",
        "outputId": "0126fc12-fd3e-4e64-da05-f222c5e81e48"
      },
      "source": [
        "a = 12\n",
        "b = 12\n",
        "\n",
        "if b>a:\n",
        "  print(\"b is greater than a\")\n",
        "elif a==b:\n",
        "  print(\"a is equal to b\")"
      ],
      "execution_count": 3,
      "outputs": [
        {
          "output_type": "stream",
          "name": "stdout",
          "text": [
            "a is equal to b\n"
          ]
        }
      ]
    },
    {
      "cell_type": "markdown",
      "metadata": {
        "id": "DPkHGlDJsaJH"
      },
      "source": [
        "###ELSE STATEMENT"
      ]
    },
    {
      "cell_type": "code",
      "metadata": {
        "colab": {
          "base_uri": "https://localhost:8080/"
        },
        "id": "BTp5P-X2sgrN",
        "outputId": "47cefcd3-eeb6-4798-b5c7-80bc4b3bd491"
      },
      "source": [
        "a = 200\n",
        "b = 33 \n",
        "\n",
        "if b>a:\n",
        "  print(\"b is greather than a\")\n",
        "elif a==b:\n",
        "  print(\"a is equal to b\")\n",
        "else:\n",
        "  print(\"a is greater than b\")"
      ],
      "execution_count": 4,
      "outputs": [
        {
          "output_type": "stream",
          "name": "stdout",
          "text": [
            "a is greater than b\n"
          ]
        }
      ]
    },
    {
      "cell_type": "markdown",
      "metadata": {
        "id": "1vStE7v4tRkz"
      },
      "source": [
        "###SHORT HAND IF STATEMENT"
      ]
    },
    {
      "cell_type": "code",
      "metadata": {
        "colab": {
          "base_uri": "https://localhost:8080/"
        },
        "id": "evsoIec5tX1I",
        "outputId": "f1713ab5-0a7c-40a8-857b-6c18cd815de5"
      },
      "source": [
        "if a>b:\n",
        "  print(\"b is greater than a\")"
      ],
      "execution_count": 5,
      "outputs": [
        {
          "output_type": "stream",
          "name": "stdout",
          "text": [
            "b is greater than a\n"
          ]
        }
      ]
    },
    {
      "cell_type": "markdown",
      "metadata": {
        "id": "uU975fgftjCE"
      },
      "source": [
        "###SHORT IF ELSE STATEMENT"
      ]
    },
    {
      "cell_type": "code",
      "metadata": {
        "colab": {
          "base_uri": "https://localhost:8080/"
        },
        "id": "DKjgqa2nuAbL",
        "outputId": "f4fea741-5857-445d-be1f-5b1504ec15a8"
      },
      "source": [
        "print(\"a is greater than b\") if a>b else print(\"b is greater than a\")"
      ],
      "execution_count": 7,
      "outputs": [
        {
          "output_type": "stream",
          "name": "stdout",
          "text": [
            "a is greater than b\n"
          ]
        }
      ]
    },
    {
      "cell_type": "markdown",
      "metadata": {
        "id": "HW6dbxUlug4X"
      },
      "source": [
        "###AND-BOTH CONDITIONS ARE TRUE"
      ]
    },
    {
      "cell_type": "code",
      "metadata": {
        "colab": {
          "base_uri": "https://localhost:8080/"
        },
        "id": "HEYmjpVBusZl",
        "outputId": "63a72b59-7bfa-4bac-d406-2604abb55eb8"
      },
      "source": [
        "a = 15\n",
        "b = 35\n",
        "\n",
        "if b>a and a<b:\n",
        "  print(\"Both conditions are True\")\n",
        "elif b<a and a>b:\n",
        "  print(\"a is lager than b\")\n",
        "else:\n",
        "  print(\"none of the above\")"
      ],
      "execution_count": 8,
      "outputs": [
        {
          "output_type": "stream",
          "name": "stdout",
          "text": [
            "Both conditions are True\n"
          ]
        }
      ]
    },
    {
      "cell_type": "markdown",
      "metadata": {
        "id": "ufVKqmw4vRNz"
      },
      "source": [
        "###OR CONDITION"
      ]
    },
    {
      "cell_type": "code",
      "metadata": {
        "colab": {
          "base_uri": "https://localhost:8080/"
        },
        "id": "2OMUOXRtvU-U",
        "outputId": "cc26080e-a8c7-48c6-e298-0b49b79f33c7"
      },
      "source": [
        "a = 15\n",
        "b = 35\n",
        "\n",
        "if b>a or a==b:\n",
        "  print(\"True\")\n",
        "elif b==b or a>b:\n",
        "  print(\"Absolutely True\")\n",
        "else:\n",
        "  print(\"Nothing to compare\")"
      ],
      "execution_count": 10,
      "outputs": [
        {
          "output_type": "stream",
          "name": "stdout",
          "text": [
            "True\n"
          ]
        }
      ]
    },
    {
      "cell_type": "code",
      "metadata": {
        "colab": {
          "base_uri": "https://localhost:8080/"
        },
        "id": "toI--oY3wOyk",
        "outputId": "9720ecc0-94b0-4f06-b393-ab3ac6feb4ac"
      },
      "source": [
        "a = 35\n",
        "b = 20\n",
        "\n",
        "if b>a or a==b:\n",
        "  print(\"True\")\n",
        "else:\n",
        "  print(\"False\")"
      ],
      "execution_count": 11,
      "outputs": [
        {
          "output_type": "stream",
          "name": "stdout",
          "text": [
            "False\n"
          ]
        }
      ]
    },
    {
      "cell_type": "markdown",
      "metadata": {
        "id": "LHe5UyK1wgsb"
      },
      "source": [
        "###NESTED IF"
      ]
    },
    {
      "cell_type": "code",
      "metadata": {
        "colab": {
          "base_uri": "https://localhost:8080/"
        },
        "id": "t_R5ZSaxwk8D",
        "outputId": "3a4c617b-deda-427a-95c7-5d333b4bb6ce"
      },
      "source": [
        "x = 41\n",
        "\n",
        "if x>10:\n",
        "  print(\"Above 10\")\n",
        "if x>20:\n",
        "  print(\"Above 20\")\n",
        "else:\n",
        "  print(\"Not above 20\")"
      ],
      "execution_count": 16,
      "outputs": [
        {
          "output_type": "stream",
          "name": "stdout",
          "text": [
            "Above 10\n",
            "Above 20\n"
          ]
        }
      ]
    },
    {
      "cell_type": "markdown",
      "metadata": {
        "id": "GgpM92cvySBP"
      },
      "source": [
        "###APPLICATION OF IF ELSE STATEMENT"
      ]
    },
    {
      "cell_type": "code",
      "metadata": {
        "colab": {
          "base_uri": "https://localhost:8080/"
        },
        "id": "uNxAgYaLyaaw",
        "outputId": "923840d5-2d1b-42e1-dda1-cf7b9c13ab4a"
      },
      "source": [
        "#Example 1\n",
        "\n",
        "age = 18\n",
        "\n",
        "if age>=18:\n",
        "  print(\"You are qualified to vote!\")\n",
        "else:\n",
        "  print(\"You are not qualified to vote!\")"
      ],
      "execution_count": 17,
      "outputs": [
        {
          "output_type": "stream",
          "name": "stdout",
          "text": [
            "You are qualified to vote!\n"
          ]
        }
      ]
    },
    {
      "cell_type": "code",
      "metadata": {
        "id": "VdFVEywRzXrG",
        "colab": {
          "base_uri": "https://localhost:8080/"
        },
        "outputId": "4c93425b-37bb-4c51-8894-36ef3cf846ec"
      },
      "source": [
        "#Example 2 to check whether 0, negative or positive number\n",
        "\n",
        "number= int(input(\"Enter the number\"))\n",
        "\n",
        "if number ==0:\n",
        "  print(\"Zero\")\n",
        "elif number>0:\n",
        "  print(\"Positive\")\n",
        "else:\n",
        "  print(\"Negative\")"
      ],
      "execution_count": 2,
      "outputs": [
        {
          "output_type": "stream",
          "name": "stdout",
          "text": [
            "Enter the number-1\n",
            "Negative\n"
          ]
        }
      ]
    },
    {
      "cell_type": "code",
      "metadata": {
        "colab": {
          "base_uri": "https://localhost:8080/"
        },
        "id": "CfCKV_tY0PPl",
        "outputId": "6a0b5732-8514-47c0-fae8-ecedd66dcdf7"
      },
      "source": [
        "#Example 3\n",
        "\n",
        "grade = int(input(\"Enter the Number\"))\n",
        "\n",
        "if grade==74:\n",
        "  print(\"Remedial\")\n",
        "elif grade>=75:\n",
        "  print(\"Passed\")\n",
        "else:\n",
        "  print(\"Failed\")\n"
      ],
      "execution_count": 3,
      "outputs": [
        {
          "output_type": "stream",
          "name": "stdout",
          "text": [
            "Enter the Number79\n",
            "Passed\n"
          ]
        }
      ]
    }
  ]
}