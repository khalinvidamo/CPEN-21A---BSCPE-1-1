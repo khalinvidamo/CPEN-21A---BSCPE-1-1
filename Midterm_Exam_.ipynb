{
  "nbformat": 4,
  "nbformat_minor": 0,
  "metadata": {
    "colab": {
      "name": "Midterm Exam .ipynb",
      "provenance": [],
      "include_colab_link": true
    },
    "kernelspec": {
      "name": "python3",
      "display_name": "Python 3"
    },
    "language_info": {
      "name": "python"
    }
  },
  "cells": [
    {
      "cell_type": "markdown",
      "metadata": {
        "id": "view-in-github",
        "colab_type": "text"
      },
      "source": [
        "<a href=\"https://colab.research.google.com/github/khalinvidamo1-1/CPEN-21A---BSCPE-1-1/blob/main/Midterm_Exam_.ipynb\" target=\"_parent\"><img src=\"https://colab.research.google.com/assets/colab-badge.svg\" alt=\"Open In Colab\"/></a>"
      ]
    },
    {
      "cell_type": "markdown",
      "metadata": {
        "id": "Pjy7DgzkhmAl"
      },
      "source": [
        "###Midterm Exam"
      ]
    },
    {
      "cell_type": "markdown",
      "metadata": {
        "id": "5V2yEvAVlrz9"
      },
      "source": [
        "###PROBLEM STATEMENT 1"
      ]
    },
    {
      "cell_type": "code",
      "metadata": {
        "colab": {
          "base_uri": "https://localhost:8080/"
        },
        "id": "xHUTNHbBhTcv",
        "outputId": "b35bc071-88fa-47aa-eb46-bc86f3cb7d34"
      },
      "source": [
        "Name= \"Khalin Rose A. Vidamo\"\n",
        "Stud_Num= \"202101935\"\n",
        "Age= \"18\"\n",
        "Birth= \"03/16/03\"\n",
        "Add= \"Tagaytay City\"\n",
        "Course=\"Bachelor of Science in Computer Engineering 1-1\"\n",
        "gwa= \"93\"\n",
        "Information= \"Hi! My name is \"+ Name +\" and here is my personal information:\" + \"\\n\" + \"Student Number:\" + Stud_Num +\"\\n\"+ Age +\" years old, birthdate \"+ Birth +\"\\n\"+ \"From \"+ Add +\"\\n\"+ \"Currently taking \"+ Course +\"\\n\"+ \"With GWA of \" + gwa +\" last semester\"\n",
        "print(Information)"
      ],
      "execution_count": 1,
      "outputs": [
        {
          "output_type": "stream",
          "name": "stdout",
          "text": [
            "Hi! My name is Khalin Rose A. Vidamo and here is my personal information:\n",
            "Student Number:202101935\n",
            "18 years old, birthdate 03/16/03\n",
            "From Tagaytay City\n",
            "Currently taking Bachelor of Science in Computer Engineering 1-1\n",
            "With GWA of 93 last semester\n"
          ]
        }
      ]
    },
    {
      "cell_type": "markdown",
      "metadata": {
        "id": "65GJhekhlk5w"
      },
      "source": [
        "###POBLEM STATEMENT 2"
      ]
    },
    {
      "cell_type": "code",
      "metadata": {
        "id": "m2EtjGuIlyEs",
        "colab": {
          "base_uri": "https://localhost:8080/"
        },
        "outputId": "5c5fed73-ba4e-4066-945f-50a1e76ea0a6"
      },
      "source": [
        "n=4\n",
        "answ= \"Y\"\n",
        "\n",
        "a=(2<n) and (n<6)\n",
        "b=(2<n) or (n<6)\n",
        "c=not(2<n) or (n<6)\n",
        "d=not(n<6)\n",
        "e= (answ==\"Y\") or (answ==\"y\")\n",
        "f= (answ==\"Y\") or (answ==\"y\")\n",
        "g= not (answ==\"y\")\n",
        "h=(2<n) and (n== 5+1) or (answ==\"No\")\n",
        "i= ((n==2) and (n==7)) or (answ==\"Y\")\n",
        "j= (n==+2) and ((n==7) or (answ==\"Y\"))\n",
        "print(a)\n",
        "print(b)\n",
        "print(c)\n",
        "print(d)\n",
        "print(e)\n",
        "print(f)\n",
        "print(g)\n",
        "print(h)\n",
        "print(i)\n",
        "print(j)"
      ],
      "execution_count": null,
      "outputs": [
        {
          "output_type": "stream",
          "name": "stdout",
          "text": [
            "True\n",
            "True\n",
            "True\n",
            "False\n",
            "True\n",
            "True\n",
            "True\n",
            "False\n",
            "True\n",
            "False\n"
          ]
        }
      ]
    },
    {
      "cell_type": "markdown",
      "metadata": {
        "id": "QJYu0B0Ol0Pv"
      },
      "source": [
        "###PROBLEM STATEMENT 3"
      ]
    },
    {
      "cell_type": "code",
      "metadata": {
        "id": "gftP0Yl2l2fs",
        "colab": {
          "base_uri": "https://localhost:8080/"
        },
        "outputId": "bcb9736f-9532-43a5-b7cb-3d57fb4a84fa"
      },
      "source": [
        "x=int(2)\n",
        "y=(-3) \n",
        "w=(7)\n",
        "z=(-10)\n",
        "a= x/y\n",
        "b=\tw/y/x\n",
        "c=\tz/y%x\n",
        "d=\tx%-y*w\n",
        "e=\tx%y\n",
        "f= z%w-y/x*5+5\n",
        "g= 9-x%(2+y)\n",
        "h= z//w\n",
        "i= (2+y)**2\n",
        "j= w/x*2\n",
        "print(a)\n",
        "print(b)\n",
        "print(c)\n",
        "print(d)\n",
        "print(e)\n",
        "print(f)\n",
        "print(g)\n",
        "print(h)\n",
        "print(i)\n",
        "print(j)"
      ],
      "execution_count": null,
      "outputs": [
        {
          "output_type": "stream",
          "name": "stdout",
          "text": [
            "-0.6666666666666666\n",
            "-1.1666666666666667\n",
            "1.3333333333333335\n",
            "14\n",
            "-1\n",
            "16.5\n",
            "9\n",
            "-2\n",
            "1\n",
            "7.0\n"
          ]
        }
      ]
    }
  ]
}