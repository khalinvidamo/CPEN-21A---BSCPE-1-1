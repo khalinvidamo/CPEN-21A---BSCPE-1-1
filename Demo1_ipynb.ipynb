{
  "nbformat": 4,
  "nbformat_minor": 0,
  "metadata": {
    "colab": {
      "name": "Demo1. ipynb",
      "provenance": [],
      "collapsed_sections": [],
      "include_colab_link": true
    },
    "kernelspec": {
      "display_name": "Python 3",
      "name": "python3"
    }
  },
  "cells": [
    {
      "cell_type": "markdown",
      "metadata": {
        "id": "view-in-github",
        "colab_type": "text"
      },
      "source": [
        "<a href=\"https://colab.research.google.com/github/khalinvidamo1-1/CPEN-21A---BSCPE-1-1/blob/main/Demo1_ipynb.ipynb\" target=\"_parent\"><img src=\"https://colab.research.google.com/assets/colab-badge.svg\" alt=\"Open In Colab\"/></a>"
      ]
    },
    {
      "cell_type": "markdown",
      "metadata": {
        "id": "zQVjJNUiomu4"
      },
      "source": [
        "# Introduction to Phyton Programming"
      ]
    },
    {
      "cell_type": "code",
      "metadata": {
        "colab": {
          "base_uri": "https://localhost:8080/"
        },
        "id": "bn3ZDHgEohUY",
        "outputId": "ad735389-ce55-4eef-cc38-1b5ef22bf513"
      },
      "source": [
        "b = ' Sally'\n",
        "c = \" Khalin Rose A Vidamo\"\n",
        "d = \" BSCpe 1-1 \"\n",
        "e = \" Cavite State University \"\n",
        "print(type(b))\n",
        "print(type(c))\n",
        "print(type(d))\n",
        "print(type(e))"
      ],
      "execution_count": null,
      "outputs": [
        {
          "output_type": "stream",
          "name": "stdout",
          "text": [
            "<class 'str'>\n",
            "<class 'str'>\n",
            "<class 'str'>\n",
            "<class 'str'>\n"
          ]
        }
      ]
    },
    {
      "cell_type": "markdown",
      "metadata": {
        "id": "uwabO7CspePb"
      },
      "source": [
        "# Naming Variables"
      ]
    },
    {
      "cell_type": "code",
      "metadata": {
        "colab": {
          "base_uri": "https://localhost:8080/"
        },
        "id": "yVuj8pPBplfE",
        "outputId": "0ff91fda-a22e-4cd5-dd14-4e2ba0b26b00"
      },
      "source": [
        "a = ' Sally '\n",
        "A = ' John '\n",
        "c = \" Khalin\"\n",
        "C = \" Rose \"\n",
        "e = ' A '\n",
        "E = ' Vidamo'\n",
        "print (a)\n",
        "print (A)\n",
        "print (c)\n",
        "print (C)\n",
        "print (e)\n",
        "print (E)"
      ],
      "execution_count": null,
      "outputs": [
        {
          "output_type": "stream",
          "name": "stdout",
          "text": [
            " Sally \n",
            " John \n",
            " Khalin\n",
            " Rose \n",
            " A \n",
            " Vidamo\n"
          ]
        }
      ]
    },
    {
      "cell_type": "code",
      "metadata": {
        "colab": {
          "base_uri": "https://localhost:8080/"
        },
        "id": "u21BwwzKp52l",
        "outputId": "c2edbd9d-4c0c-40ad-9dae-61d629b3d6d3"
      },
      "source": [
        "a, b, c = 0, 1, 2\n",
        "d, e, f = 3, 4, 5\n",
        "print (type(a))       #This is a program using type function\n",
        "print(type(b))\n",
        "print(type(c))\n",
        "print(type(d))\n",
        "print(type(e))\n",
        "print(type(f))"
      ],
      "execution_count": null,
      "outputs": [
        {
          "output_type": "stream",
          "name": "stdout",
          "text": [
            "<class 'int'>\n",
            "<class 'int'>\n",
            "<class 'int'>\n",
            "<class 'int'>\n",
            "<class 'int'>\n",
            "<class 'int'>\n"
          ]
        }
      ]
    },
    {
      "cell_type": "code",
      "metadata": {
        "colab": {
          "base_uri": "https://localhost:8080/"
        },
        "id": "mUSmr2bgqhae",
        "outputId": "07b6f63f-e044-4b20-c4ee-143d39ee3d0e"
      },
      "source": [
        "a = float (4)\n",
        "b = float (10)\n",
        "c = float (14)\n",
        "d = float (22)\n",
        "e = float (100)\n",
        "print(a)\n",
        "print(b)\n",
        "print(c)\n",
        "print(d)\n",
        "print(e)"
      ],
      "execution_count": null,
      "outputs": [
        {
          "output_type": "stream",
          "name": "stdout",
          "text": [
            "4.0\n",
            "10.0\n",
            "14.0\n",
            "22.0\n",
            "100.0\n"
          ]
        }
      ]
    },
    {
      "cell_type": "code",
      "metadata": {
        "colab": {
          "base_uri": "https://localhost:8080/"
        },
        "id": "Zq31EsNcuRX0",
        "outputId": "e9ffaad3-7047-4eb1-a3dd-7182fb5b9cb2"
      },
      "source": [
        "a = 4.50\n",
        "b = 8.50\n",
        "c = 12.50\n",
        "d = 555.5\n",
        "e = 115.25\n",
        "print(type(a))\n",
        "print(type(b))\n",
        "print(type(c))\n",
        "print(type(d))\n",
        "print(type(e))"
      ],
      "execution_count": null,
      "outputs": [
        {
          "output_type": "stream",
          "name": "stdout",
          "text": [
            "<class 'float'>\n",
            "<class 'float'>\n",
            "<class 'float'>\n",
            "<class 'float'>\n",
            "<class 'float'>\n"
          ]
        }
      ]
    },
    {
      "cell_type": "markdown",
      "metadata": {
        "id": "ahtN7fz8wVNp"
      },
      "source": [
        "# One Value to Multiple Variables"
      ]
    },
    {
      "cell_type": "code",
      "metadata": {
        "colab": {
          "base_uri": "https://localhost:8080/"
        },
        "id": "EACOFohSwft2",
        "outputId": "f9360a7b-0fb6-42bd-8aed-6d6987252d3c"
      },
      "source": [
        "x = y = z= 'four'\n",
        "a = b = c= 'eight'\n",
        "h = i = j= 'twenty'\n",
        "print(x)\n",
        "print(y)\n",
        "print(z)\n",
        "print(a)\n",
        "print(b)\n",
        "print(c)\n",
        "print(h)\n",
        "print(i)\n",
        "print(j)"
      ],
      "execution_count": null,
      "outputs": [
        {
          "output_type": "stream",
          "name": "stdout",
          "text": [
            "four\n",
            "four\n",
            "four\n",
            "eight\n",
            "eight\n",
            "eight\n",
            "twenty\n",
            "twenty\n",
            "twenty\n"
          ]
        }
      ]
    },
    {
      "cell_type": "code",
      "metadata": {
        "colab": {
          "base_uri": "https://localhost:8080/"
        },
        "id": "iLhLHDFTxOFy",
        "outputId": "ec3d85a5-0427-4359-c2eb-0abd1460c6a7"
      },
      "source": [
        "x = ' enjoying '\n",
        "y = ' love '\n",
        "z= ' subject '\n",
        "a = ' CAVITE STATE UNIVERSITY '\n",
        "print('Phyton programming is' + x)\n",
        "print('I'+ y +'programming')\n",
        "print('Programming is my favorite' +  z)\n",
        "print('Khalin Vidamo is studying at' + a)"
      ],
      "execution_count": null,
      "outputs": [
        {
          "output_type": "stream",
          "name": "stdout",
          "text": [
            "Phyton programming is enjoying \n",
            "I love programming\n",
            "Programming is my favorite subject \n",
            "Khalin Vidamo is studying at CAVITE STATE UNIVERSITY \n"
          ]
        }
      ]
    },
    {
      "cell_type": "code",
      "metadata": {
        "colab": {
          "base_uri": "https://localhost:8080/"
        },
        "id": "3mRCeFy_1D6b",
        "outputId": "53f87bc0-ece1-4d06-8f85-f4f4502a345f"
      },
      "source": [
        "a = 5\n",
        "b = 10\n",
        "h = 5\n",
        "i = 5\n",
        "q = 2\n",
        "t = 8\n",
        "x = 4\n",
        "y = 5\n",
        "print(a-b)\n",
        "print(h*i)\n",
        "print(q/t)\n",
        "print(x+5)"
      ],
      "execution_count": null,
      "outputs": [
        {
          "output_type": "stream",
          "name": "stdout",
          "text": [
            "-5\n",
            "25\n",
            "0.25\n",
            "9\n"
          ]
        }
      ]
    },
    {
      "cell_type": "code",
      "metadata": {
        "colab": {
          "base_uri": "https://localhost:8080/"
        },
        "id": "Nm8Rs5V02zp1",
        "outputId": "a5213f95-070b-492e-df27-edde756d2cac"
      },
      "source": [
        "x<y and x==x"
      ],
      "execution_count": null,
      "outputs": [
        {
          "output_type": "execute_result",
          "data": {
            "text/plain": [
              "True"
            ]
          },
          "metadata": {},
          "execution_count": 43
        }
      ]
    },
    {
      "cell_type": "code",
      "metadata": {
        "colab": {
          "base_uri": "https://localhost:8080/"
        },
        "id": "-dpacd7-3NFo",
        "outputId": "66b54ad4-6e27-4edb-e862-b8868483dcf9"
      },
      "source": [
        "x>y or x==x"
      ],
      "execution_count": null,
      "outputs": [
        {
          "output_type": "execute_result",
          "data": {
            "text/plain": [
              "True"
            ]
          },
          "metadata": {},
          "execution_count": 45
        }
      ]
    },
    {
      "cell_type": "code",
      "metadata": {
        "colab": {
          "base_uri": "https://localhost:8080/"
        },
        "id": "OwOG5tpY3VvV",
        "outputId": "431588dc-07e8-4322-d051-6059f1d6b758"
      },
      "source": [
        "not(x>y or x==x)"
      ],
      "execution_count": null,
      "outputs": [
        {
          "output_type": "execute_result",
          "data": {
            "text/plain": [
              "False"
            ]
          },
          "metadata": {},
          "execution_count": 46
        }
      ]
    }
  ]
}